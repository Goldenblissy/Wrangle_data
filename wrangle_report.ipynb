{
 "cells": [
  {
   "cell_type": "markdown",
   "metadata": {},
   "source": [
    "## Reporting: wrangle_report"
   ]
  },
  {
   "cell_type": "markdown",
   "metadata": {},
   "source": [
    "### Data Gathering\n",
    "\n",
    "**Three** datasets was gathered for this project. I downloaded the **'twitter-archived-enhanced.csv'** dataset manually from the Udacity classroom, downloaded the **'image_prediction.tsv'** data programatically using the request library also from the link given in the Udacity classroom. The third **'tweet-json.txt'** dataset was to be downloaded using tweep query but I had issues getting my twitter verification request approved. So I resorted to used Json, operator and pandas libraries to download the data. "
   ]
  },
  {
   "cell_type": "markdown",
   "metadata": {},
   "source": [
    "### Assessing"
   ]
  },
  {
   "cell_type": "markdown",
   "metadata": {},
   "source": [
    "I assessed the three datasets visually and progammaticall using pandas methods. Observation was made on quality and tidiness issues"
   ]
  },
  {
   "cell_type": "markdown",
   "metadata": {},
   "source": [
    "### Tidiness issues\n",
    " - I observed that the html tag had tweet source.\n",
    " - Timestamp column had both date and time in the same column and saved as object datatype.\n",
    " - Tweet column had rating and links in the same column.\n",
    " - All three datasets should be merged into one dataframe."
   ]
  },
  {
   "cell_type": "markdown",
   "metadata": {},
   "source": [
    "### Quality Issues"
   ]
  },
  {
   "cell_type": "markdown",
   "metadata": {},
   "source": [
    " - There were about 181 retweets and 78 replies in the twitter_archived_enhanced datasets, which were not part of the original tweet, so I removed them using the drop method.\n",
    " - Rating should be float. \n",
    " - Timestamp column with object datatype.\n",
    " - Inconsistency in names across the three dataset.\n",
    " - Irrelevant columnns.\n",
    " - Inappropriate dog names like 'a', 'the'."
   ]
  },
  {
   "cell_type": "markdown",
   "metadata": {},
   "source": [
    "### Cleaning"
   ]
  },
  {
   "cell_type": "markdown",
   "metadata": {},
   "source": [
    " - To allow for changes in the datasets without affecting the original datasets, I copy the original datasets and added a suffic of _clean to the new dataframe created.\n",
    "\n",
    "#### Tidiness\n",
    " - Used Regular expression to extract the tweet sources from the html tag, as the html tag had links not needed.\n",
    " - Timestamp column had both date and time, which I splitted into separate columns to enable me get more insights while analysing the data.\n",
    " - I notice from programmatical assessment that the tweet column had rating and links which was not quite obvious, so I extracted the links and rating from the column.\n",
    " - Merged all three datasets as it seems structurally okay for them to be in the same dataframe.\n",
    " \n",
    "#### Quality\n",
    " - There were about 181 retweets and 78 replies in the twitter_archived_enhanced datasets, which were not part of the original tweet, so I removed them using the drop method.\n",
    " - Change rating datatype to float to allow for exploratory analysis. \n",
    " - Timestamp column datatype was object so I change it to datetime to allow for futher analysis.\n",
    " - Make all the names columns across the three datasets to be lowercase consistency.\n",
    " - Drop columns that column not be needed for the analysis.\n",
    " - Change inappropriate dog names to No_name for better recognition."
   ]
  },
  {
   "cell_type": "markdown",
   "metadata": {},
   "source": [
    "#### Storing\n",
    " - Save the merged dataset into a single df_master dataframe as a CSV file named twitter_archive_master.csv"
   ]
  }
 ],
 "metadata": {
  "kernelspec": {
   "display_name": "Python 3",
   "language": "python",
   "name": "python3"
  },
  "language_info": {
   "codemirror_mode": {
    "name": "ipython",
    "version": 3
   },
   "file_extension": ".py",
   "mimetype": "text/x-python",
   "name": "python",
   "nbconvert_exporter": "python",
   "pygments_lexer": "ipython3",
   "version": "3.6.3"
  }
 },
 "nbformat": 4,
 "nbformat_minor": 2
}
